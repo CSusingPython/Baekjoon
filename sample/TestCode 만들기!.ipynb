{
 "cells": [
  {
   "cell_type": "markdown",
   "metadata": {},
   "source": [
    "### 문제\n",
    "> 자연수 과 정수 가 주어졌을 때 이항 계수 를 구하는 프로그램을 작성하시오."
   ]
  },
  {
   "cell_type": "markdown",
   "metadata": {},
   "source": [
    "### 입력\n",
    "\n",
    "> 첫째 줄에 $N$과 $K$가 주어진다. (1 ≤ $N$ ≤ 10, 0 ≤ $K$ ≤ $N$)\n",
    "\n",
    "\n",
    "    "
   ]
  },
  {
   "cell_type": "markdown",
   "metadata": {},
   "source": [
    "### 출력\n",
    "\n",
    "> ${n \\choose k}$ 를 출력한다.\n"
   ]
  },
  {
   "cell_type": "markdown",
   "metadata": {},
   "source": [
    "### 예제 \n",
    "\n",
    "입력 \n",
    "\n",
    "> 5 2 \n",
    "\n",
    "출력\n",
    "\n",
    "> 10"
   ]
  },
  {
   "cell_type": "markdown",
   "metadata": {},
   "source": [
    "## 위의 간단한 백준 문제(11050번)을 통해, 어떻게 test code를 작성하는지 알아보자!"
   ]
  },
  {
   "cell_type": "markdown",
   "metadata": {},
   "source": [
    "우리는 위의 문제를 어떻게 풀 수 있을까? 위의 문제를 풀기 위해서는 무엇이 필요할까? 문제를 풀기에 앞서, 우리는 구체적으로 이 문제가 요구하는 것이 무엇인지 알아야 한다!\n",
    "\n",
    "1. 첫째 줄에서 N과 K를 받아오기\n",
    "2. 결과값을 계산하기\n",
    "3. 계산된 결과값을 보여주기\n",
    "\n",
    "1번과 3번은 매우 간단하다. 그래서 우리의 코드 구성은 이런식이 될것이다.\n",
    "\n"
   ]
  },
  {
   "cell_type": "code",
   "execution_count": 31,
   "metadata": {},
   "outputs": [],
   "source": [
    "def solve_11050():\n",
    "    # 1. input 값을 받아오기\n",
    "    read_input = input()\n",
    "    N, K = read_input.split(\" \")\n",
    "    N, K = int(N), int(K) # string을 integer로 변환\n",
    "    \n",
    "    # 2. 결과 값을 계산하기\n",
    "    value = solve_binomial_coefficient(N, K)\n",
    "    \n",
    "    # 3. 결과 값을 출력하기\n",
    "    print(value)"
   ]
  },
  {
   "cell_type": "code",
   "execution_count": null,
   "metadata": {},
   "outputs": [],
   "source": [
    "def solve_binomial_coefficient(N, K):\n",
    "    \"\"\"\n",
    "    이항계수를 구하는 부분\n",
    "    \"\"\"\n",
    "    # FIXME\n",
    "    return 0"
   ]
  },
  {
   "cell_type": "markdown",
   "metadata": {},
   "source": [
    "기본적으로 문제 풀이를 위와 같이 설계한다면, 우리가 집중해야 하는 것은 바로, N과 K를 받아 결과를 계산하는 `sove_binomial_coefficient` 일 것이다."
   ]
  },
  {
   "cell_type": "markdown",
   "metadata": {},
   "source": [
    "우리가 집중해야 하는 것은 이것을 올바르게 구하는 것. 올바르다는 것은 어떻게 알 수 있을까??\n",
    "\n",
    "코드를 짜고 이것이 맞는지를 검증하는 것이 아니라, Test를 먼저 만들고, 코드가 맞도록 설계하도록 해보자. "
   ]
  },
  {
   "cell_type": "markdown",
   "metadata": {},
   "source": [
    "이항 계수를 구하는 식은 \n",
    "\n",
    "$$\n",
    "{n \\choose k} = \\frac{n!}{k!(n-k)!}\n",
    "$$\n",
    "\n",
    "이다."
   ]
  },
  {
   "cell_type": "markdown",
   "metadata": {},
   "source": [
    "위 식을 기준으로 답안지를 만들면 아래 같은 Test 답안지를 만들 수 있을 것이다.\n",
    "\n",
    "| N | K | result |\n",
    "|---|---|---|\n",
    "| 2 | 1 | 2 |\n",
    "| 3 | 1 | 3 |\n",
    "| 3 | 2 | 3 |\n",
    "| 5 | 2 | 10|\n",
    "| 5 | 3 | 10|\n",
    "| 10| 2 | 45|"
   ]
  },
  {
   "cell_type": "markdown",
   "metadata": {},
   "source": [
    "가장 간단한 방식으로 테스트 코드를 만들어보자!"
   ]
  },
  {
   "cell_type": "code",
   "execution_count": 8,
   "metadata": {},
   "outputs": [
    {
     "ename": "AssertionError",
     "evalue": "2가 나와야한다고 멍청아",
     "output_type": "error",
     "traceback": [
      "\u001b[0;31m---------------------------------------------------------------------------\u001b[0m",
      "\u001b[0;31mAssertionError\u001b[0m                            Traceback (most recent call last)",
      "\u001b[0;32m<ipython-input-8-0a2c4653ca42>\u001b[0m in \u001b[0;36m<module>\u001b[0;34m()\u001b[0m\n\u001b[1;32m      1\u001b[0m \u001b[0;31m# test 1\u001b[0m\u001b[0;34m\u001b[0m\u001b[0;34m\u001b[0m\u001b[0m\n\u001b[0;32m----> 2\u001b[0;31m \u001b[0;32massert\u001b[0m \u001b[0msolve_binomial_coefficient\u001b[0m\u001b[0;34m(\u001b[0m\u001b[0;36m2\u001b[0m\u001b[0;34m,\u001b[0m\u001b[0;36m1\u001b[0m\u001b[0;34m)\u001b[0m \u001b[0;34m==\u001b[0m \u001b[0;36m2\u001b[0m\u001b[0;34m,\u001b[0m \u001b[0;34m\"2가 나와야한다고 멍청아\"\u001b[0m\u001b[0;34m\u001b[0m\u001b[0m\n\u001b[0m\u001b[1;32m      3\u001b[0m \u001b[0;31m# test 2\u001b[0m\u001b[0;34m\u001b[0m\u001b[0;34m\u001b[0m\u001b[0m\n\u001b[1;32m      4\u001b[0m \u001b[0;32massert\u001b[0m \u001b[0msolve_binomial_coefficient\u001b[0m\u001b[0;34m(\u001b[0m\u001b[0;36m3\u001b[0m\u001b[0;34m,\u001b[0m\u001b[0;36m1\u001b[0m\u001b[0;34m)\u001b[0m \u001b[0;34m==\u001b[0m \u001b[0;36m3\u001b[0m\u001b[0;34m,\u001b[0m \u001b[0;34m\"3가 나와야한다고 멍청아\"\u001b[0m\u001b[0;34m\u001b[0m\u001b[0m\n\u001b[1;32m      5\u001b[0m \u001b[0;31m# test 3\u001b[0m\u001b[0;34m\u001b[0m\u001b[0;34m\u001b[0m\u001b[0m\n",
      "\u001b[0;31mAssertionError\u001b[0m: 2가 나와야한다고 멍청아"
     ]
    }
   ],
   "source": [
    "# test 1\n",
    "assert solve_binomial_coefficient(2,1) == 2, \"2가 나와야한다고 멍청아\"\n",
    "# test 2\n",
    "assert solve_binomial_coefficient(3,1) == 3, \"3가 나와야한다고 멍청아\"\n",
    "# test 3\n",
    "assert solve_binomial_coefficient(3,2) == 3, \"3가 나와야한다고 멍청아\"\n",
    "# test 4\n",
    "assert solve_binomial_coefficient(5,2) == 10, \"10가 나와야한다고 멍청아\"\n",
    "# test 5\n",
    "assert solve_binomial_coefficient(5,3) == 10, \"10가 나와야한다고 멍청아\"\n",
    "# test 6\n",
    "assert solve_binomial_coefficient(10,2) == 45, \"45가 나와야한다고 멍청아\""
   ]
  },
  {
   "cell_type": "markdown",
   "metadata": {},
   "source": [
    "위와 같이 테스트 코드를 만들면 문제가 좀 있다.\n",
    "\n",
    "1. 코드 관리가 안된다.\n",
    "2. 테스트가 통과안될 경우, 아래 테스트도 모조리 테스트가 중단된다\n",
    "\n",
    "그래서 우리는 Test code를 짜기 위해 보통 unittest를 이용하게 된다."
   ]
  },
  {
   "cell_type": "code",
   "execution_count": 13,
   "metadata": {},
   "outputs": [],
   "source": [
    "import unittest\n",
    "from unittest import mock, TestCase\n",
    "\n",
    "class Problem11050SimpleTest(TestCase):\n",
    "    def test_solve_binomial_coefficient_when_n_is_2_and_k_is_1(self):\n",
    "        test_output = solve_binomial_coefficient(2,1)\n",
    "        test_answer = 2\n",
    "        self.assertEqual(test_answer,test_output)\n",
    "    \n",
    "    def test_solve_binomial_coefficient_when_n_is_3_and_k_is_1(self):\n",
    "        test_output = solve_binomial_coefficient(3,1)\n",
    "        test_answer = 3\n",
    "        self.assertEqual(test_answer,test_output)\n",
    "\n",
    "    def test_solve_binomial_coefficient_when_n_is_3_and_k_is_2(self):\n",
    "        test_output = solve_binomial_coefficient(3,2)\n",
    "        test_answer = 3\n",
    "        self.assertEqual(test_answer,test_output)\n",
    "    \n",
    "    def test_solve_binomial_coefficient_when_n_is_5_and_k_is_2(self):\n",
    "        test_output = solve_binomial_coefficient(5,2)\n",
    "        test_answer = 10\n",
    "        self.assertEqual(test_answer,test_output)\n",
    "    \n",
    "    def test_solve_binomial_coefficient_when_n_is_5_and_k_is_3(self):\n",
    "        test_output = solve_binomial_coefficient(5,3)\n",
    "        test_answer = 10\n",
    "        self.assertEqual(test_answer,test_output)\n",
    "\n",
    "    def test_solve_binomial_coefficient_when_n_is_10_and_k_is_2(self):\n",
    "        test_output = solve_binomial_coefficient(10,2)\n",
    "        test_answer = 45\n",
    "        self.assertEqual(test_answer,test_output)"
   ]
  },
  {
   "cell_type": "code",
   "execution_count": 14,
   "metadata": {},
   "outputs": [
    {
     "name": "stderr",
     "output_type": "stream",
     "text": [
      "FFFFFF\n",
      "======================================================================\n",
      "FAIL: test_solve_binomial_coefficient_when_n_is_10_and_k_is_2 (__main__.Problem11050SimpleTest)\n",
      "----------------------------------------------------------------------\n",
      "Traceback (most recent call last):\n",
      "  File \"<ipython-input-13-dfe260a3c72d>\", line 33, in test_solve_binomial_coefficient_when_n_is_10_and_k_is_2\n",
      "    self.assertEqual(test_answer,test_output)\n",
      "AssertionError: 45 != 0\n",
      "\n",
      "======================================================================\n",
      "FAIL: test_solve_binomial_coefficient_when_n_is_2_and_k_is_1 (__main__.Problem11050SimpleTest)\n",
      "----------------------------------------------------------------------\n",
      "Traceback (most recent call last):\n",
      "  File \"<ipython-input-13-dfe260a3c72d>\", line 8, in test_solve_binomial_coefficient_when_n_is_2_and_k_is_1\n",
      "    self.assertEqual(test_answer,test_output)\n",
      "AssertionError: 2 != 0\n",
      "\n",
      "======================================================================\n",
      "FAIL: test_solve_binomial_coefficient_when_n_is_3_and_k_is_1 (__main__.Problem11050SimpleTest)\n",
      "----------------------------------------------------------------------\n",
      "Traceback (most recent call last):\n",
      "  File \"<ipython-input-13-dfe260a3c72d>\", line 13, in test_solve_binomial_coefficient_when_n_is_3_and_k_is_1\n",
      "    self.assertEqual(test_answer,test_output)\n",
      "AssertionError: 3 != 0\n",
      "\n",
      "======================================================================\n",
      "FAIL: test_solve_binomial_coefficient_when_n_is_3_and_k_is_2 (__main__.Problem11050SimpleTest)\n",
      "----------------------------------------------------------------------\n",
      "Traceback (most recent call last):\n",
      "  File \"<ipython-input-13-dfe260a3c72d>\", line 18, in test_solve_binomial_coefficient_when_n_is_3_and_k_is_2\n",
      "    self.assertEqual(test_answer,test_output)\n",
      "AssertionError: 3 != 0\n",
      "\n",
      "======================================================================\n",
      "FAIL: test_solve_binomial_coefficient_when_n_is_5_and_k_is_2 (__main__.Problem11050SimpleTest)\n",
      "----------------------------------------------------------------------\n",
      "Traceback (most recent call last):\n",
      "  File \"<ipython-input-13-dfe260a3c72d>\", line 23, in test_solve_binomial_coefficient_when_n_is_5_and_k_is_2\n",
      "    self.assertEqual(test_answer,test_output)\n",
      "AssertionError: 10 != 0\n",
      "\n",
      "======================================================================\n",
      "FAIL: test_solve_binomial_coefficient_when_n_is_5_and_k_is_3 (__main__.Problem11050SimpleTest)\n",
      "----------------------------------------------------------------------\n",
      "Traceback (most recent call last):\n",
      "  File \"<ipython-input-13-dfe260a3c72d>\", line 28, in test_solve_binomial_coefficient_when_n_is_5_and_k_is_3\n",
      "    self.assertEqual(test_answer,test_output)\n",
      "AssertionError: 10 != 0\n",
      "\n",
      "----------------------------------------------------------------------\n",
      "Ran 6 tests in 0.006s\n",
      "\n",
      "FAILED (failures=6)\n"
     ]
    }
   ],
   "source": [
    "if __name__ == '__main__':\n",
    "    unittest.main(argv=['first-arg-is-ignored'], exit=False)"
   ]
  },
  {
   "cell_type": "markdown",
   "metadata": {},
   "source": [
    "역시 구현되지 않았으니 다 틀렸다고 뜬다. 이제 구현해보자"
   ]
  },
  {
   "cell_type": "code",
   "execution_count": 33,
   "metadata": {},
   "outputs": [],
   "source": [
    "def solve_binomial_coefficient(N, K):\n",
    "    \"\"\"\n",
    "    이항계수를 구하는 부분\n",
    "    \"\"\"\n",
    "    result = 1\n",
    "    \n",
    "    for value in range(N,N-K,-1):\n",
    "        result *= value\n",
    "    \n",
    "    for value in range(1,K+1,1):\n",
    "        result /= value\n",
    "        \n",
    "    return result"
   ]
  },
  {
   "cell_type": "code",
   "execution_count": 21,
   "metadata": {},
   "outputs": [
    {
     "name": "stderr",
     "output_type": "stream",
     "text": [
      "......\n",
      "----------------------------------------------------------------------\n",
      "Ran 6 tests in 0.009s\n",
      "\n",
      "OK\n"
     ]
    }
   ],
   "source": [
    "if __name__ == '__main__':\n",
    "    unittest.main(argv=['first-arg-is-ignored'], exit=False)"
   ]
  },
  {
   "cell_type": "markdown",
   "metadata": {},
   "source": [
    "다행이 통과했다! "
   ]
  },
  {
   "cell_type": "markdown",
   "metadata": {},
   "source": [
    "그럼 이제 `solve_11050`에 대한 Test code도 만들어보자. solve_11050은 테스트하기 까다로운 점이 하나 있다."
   ]
  },
  {
   "cell_type": "code",
   "execution_count": 34,
   "metadata": {},
   "outputs": [
    {
     "name": "stdout",
     "output_type": "stream",
     "text": [
      "5 2\n",
      "10.0\n"
     ]
    }
   ],
   "source": [
    "solve_11050()"
   ]
  },
  {
   "cell_type": "markdown",
   "metadata": {},
   "source": [
    "우리가 직접 입력을 넣어주어야 하는 부분이 존재한다. 그러면 테스트할때마다 직접 타이핑을 쳐야 할 것이다. 너무 개노가다가 된다. 이건 반복적으로 테스트를 돌릴 수 없도록 만든다. \n",
    "\n",
    "그래서 우리는 코드 내부에서 input 부분을 자동화시켜야 한다. 그걸 도와주는 것이 바로 mock 이다"
   ]
  },
  {
   "cell_type": "code",
   "execution_count": 56,
   "metadata": {},
   "outputs": [],
   "source": [
    "import io\n",
    "import sys\n",
    "from contextlib import contextmanager\n",
    "\n",
    "class Problem11050ComplexTest(TestCase):\n",
    "    @mock.patch(\"__main__.__builtin__.input\")\n",
    "    def test_solve_11050_when_input_is_5_2(self,mock_input):\n",
    "        mock_input.return_value = '5 2'\n",
    "        test_answer = \"10\"\n",
    "        with captured_output() as (out, err):\n",
    "            solve_11050()\n",
    "        output = out.getvalue().strip()\n",
    "        \n",
    "        self.assertEqual(test_answer, output)\n",
    "        \n",
    "@contextmanager\n",
    "def captured_output():\n",
    "    new_out, new_err = io.StringIO(), io.StringIO()\n",
    "    old_out, old_err = sys.stdout, sys.stderr\n",
    "    try:\n",
    "        sys.stdout, sys.stderr = new_out, new_err\n",
    "        yield sys.stdout, sys.stderr\n",
    "    finally:\n",
    "        sys.stdout, sys.stderr = old_out, old_err"
   ]
  },
  {
   "cell_type": "code",
   "execution_count": 57,
   "metadata": {},
   "outputs": [
    {
     "name": "stderr",
     "output_type": "stream",
     "text": [
      "F......\n",
      "======================================================================\n",
      "FAIL: test_solve_11050_when_input_is_5_2 (__main__.Problem11050ComplexTest)\n",
      "----------------------------------------------------------------------\n",
      "Traceback (most recent call last):\n",
      "  File \"/Users/ksj/anaconda3/lib/python3.6/unittest/mock.py\", line 1179, in patched\n",
      "    return func(*args, **keywargs)\n",
      "  File \"<ipython-input-56-7d040a51f1e3>\", line 14, in test_solve_11050_when_input_is_5_2\n",
      "    self.assertEqual(test_answer, output)\n",
      "AssertionError: '10' != '10.0'\n",
      "- 10\n",
      "+ 10.0\n",
      "?   ++\n",
      "\n",
      "\n",
      "----------------------------------------------------------------------\n",
      "Ran 7 tests in 0.007s\n",
      "\n",
      "FAILED (failures=1)\n"
     ]
    }
   ],
   "source": [
    "if __name__ == '__main__':\n",
    "    unittest.main(argv=['first-arg-is-ignored'], exit=False)"
   ]
  },
  {
   "cell_type": "markdown",
   "metadata": {},
   "source": [
    "음? 문제가 발생했다. 코드를 풀때는 예상치 못한 문제가 나타날 수 있다. 그럼 이 문제를 마저 해결하려면, 다음처럼 할수 있다."
   ]
  },
  {
   "cell_type": "code",
   "execution_count": 59,
   "metadata": {},
   "outputs": [],
   "source": [
    "def solve_11050():\n",
    "    # 1. input 값을 받아오기\n",
    "    read_input = input()\n",
    "    N, K = read_input.split(\" \")\n",
    "    N, K = int(N), int(K) # string을 integer로 변환\n",
    "    \n",
    "    # 2. 결과 값을 계산하기\n",
    "    value = solve_binomial_coefficient(N, K)\n",
    "    \n",
    "    # 3. 결과 값을 출력하기\n",
    "    print(int(value))"
   ]
  },
  {
   "cell_type": "code",
   "execution_count": 60,
   "metadata": {},
   "outputs": [
    {
     "name": "stderr",
     "output_type": "stream",
     "text": [
      ".......\n",
      "----------------------------------------------------------------------\n",
      "Ran 7 tests in 0.007s\n",
      "\n",
      "OK\n"
     ]
    }
   ],
   "source": [
    "if __name__ == '__main__':\n",
    "    unittest.main(argv=['first-arg-is-ignored'], exit=False)"
   ]
  },
  {
   "cell_type": "markdown",
   "metadata": {},
   "source": [
    "이제 문제를 다 풀었다!! "
   ]
  },
  {
   "cell_type": "markdown",
   "metadata": {},
   "source": [
    "UnitTest를 만드는 것은 매우 비효율적인 방법처럼 느껴질 수 있다. 하지만 이런 식으로 다져가며 만들어진 코드들은 나중에도 신뢰할 수 있다. 왜냐하면 "
   ]
  },
  {
   "cell_type": "markdown",
   "metadata": {},
   "source": [
    "-----\n",
    "------"
   ]
  },
  {
   "cell_type": "markdown",
   "metadata": {},
   "source": [
    " 참고자료입니다!\n",
    "\n",
    "#### TDD란? -> 위키백과\n",
    "```\n",
    "테스트 주도 개발(Test-driven development TDD)은 매우 짧은 개발 사이클을 반복하는 소프트웨어 개발 프로세스 중 하나이다. 우선 개발자는 바라는 향상 또는 새로운 함수를 정의하는 (초기적 결함을 점검하는) 자동화된 테스트 케이스를 작성한다. 그런 후에, 그 케이스를 통과하기 위한 최소한의 양의 코드를 생성한다. 그리고 마지막으로 그 새 코드를 표준에 맞도록 리팩토링한다. 이 기법을 개발했거나 '재발견' 한 것으로 인정되는 Kent Beck은 2003년에 TDD가 단순한 설계를 장려하고 자신감을 불어넣어준다고 말하였다.\n",
    "```\n",
    "\n",
    "유닛테스트를 만드는 순서에 대한 좋은 Reference 자료 : \n",
    "[5 step method to make test-driven development and unit testing easy](https://codeutopia.net/blog/2016/10/10/5-step-method-to-make-test-driven-development-and-unit-testing-easy/)"
   ]
  }
 ],
 "metadata": {
  "kernelspec": {
   "display_name": "Python 3",
   "language": "python",
   "name": "python3"
  },
  "language_info": {
   "codemirror_mode": {
    "name": "ipython",
    "version": 3
   },
   "file_extension": ".py",
   "mimetype": "text/x-python",
   "name": "python",
   "nbconvert_exporter": "python",
   "pygments_lexer": "ipython3",
   "version": "3.6.5"
  }
 },
 "nbformat": 4,
 "nbformat_minor": 2
}
