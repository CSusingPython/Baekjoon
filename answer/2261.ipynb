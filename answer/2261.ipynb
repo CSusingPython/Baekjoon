{
 "cells": [
  {
   "cell_type": "markdown",
   "metadata": {},
   "source": [
    "### 새로 알게 된 사항들\n",
    "- list of tuple을 sort하면 알아서 '잘' 해준다  \n",
    "- set of tuple도 가능하다!  "
   ]
  },
  {
   "cell_type": "markdown",
   "metadata": {},
   "source": [
    "20001 = 3x59x113 = 117x113  \n",
    "10030 = 59x170"
   ]
  },
  {
   "cell_type": "markdown",
   "metadata": {},
   "source": [
    "### distance inside each partition"
   ]
  },
  {
   "cell_type": "code",
   "execution_count": 5,
   "metadata": {
    "scrolled": true
   },
   "outputs": [
    {
     "name": "stdout",
     "output_type": "stream",
     "text": [
      "73\n",
      "Wall time: 7.52 ms\n"
     ]
    }
   ],
   "source": [
    "%%time\n",
    "while True:\n",
    "    #distance for each partitiong\n",
    "    m = 1000\n",
    "    dic = dict()\n",
    "    pts = []\n",
    "    for _ in range(m):\n",
    "        x, y = random.randint(-10000,10000)+10000, random.randint(-10000,10000)+10000\n",
    "        pts.append((x, y))\n",
    "        dic[(x//59, y//59)] = dic.get((x//59, y//59), set()) | set([(x%59, y%59)])\n",
    "        '''\n",
    "        the range of x and y are 0~339 for each partition\n",
    "        there are 59*59 = 3481 partitions\n",
    "        20001 = 59*339\n",
    "        '''\n",
    "    dist = []\n",
    "    for _, value in dic.items():\n",
    "        target=list(value)\n",
    "        n = len(target)\n",
    "        if n == 1 : continue\n",
    "        temp_dist = []\n",
    "        for i in range(n):\n",
    "            for j in range(i+1, n):\n",
    "                temp_dist.append(((target[i][0]-target[j][0])**2 + (target[i][1]-target[j][1])**2))\n",
    "        if min(temp_dist) == 0: break\n",
    "        dist.append(min(temp_dist))\n",
    "    print(min(dist))\n",
    "    '''\n",
    "    if the minimum of distance above is 1, no more exploration is needed\n",
    "    '''\n",
    "    if min(dist)>1: break"
   ]
  },
  {
   "cell_type": "markdown",
   "metadata": {},
   "source": [
    "### naive distance"
   ]
  },
  {
   "cell_type": "code",
   "execution_count": null,
   "metadata": {},
   "outputs": [],
   "source": [
    "def naive_dist(pts):\n",
    "    n = len(pts)\n",
    "    dist = []\n",
    "    for i in range(n):\n",
    "        temp = pts[i]\n",
    "        for j in (range(i+1, n)):\n",
    "            dist.append(((temp[0]-pts[j][0])**2 + (temp[1]-pts[j][1])**2))\n",
    "    return min(dist)"
   ]
  },
  {
   "cell_type": "code",
   "execution_count": 6,
   "metadata": {},
   "outputs": [
    {
     "name": "stdout",
     "output_type": "stream",
     "text": [
      "73\n",
      "Wall time: 656 ms\n"
     ]
    }
   ],
   "source": [
    "%%time\n",
    "dist = []\n",
    "pts = list(set(pts))\n",
    "for i in range(len(pts)):\n",
    "    temp = pts[i]\n",
    "    for j in (range(i+1, len(pts))):\n",
    "        dist.append(((temp[0]-pts[j][0])**2 + (temp[1]-pts[j][1])**2))\n",
    "print(min(dist))        "
   ]
  },
  {
   "cell_type": "markdown",
   "metadata": {},
   "source": [
    "### inter-partitions distance "
   ]
  },
  {
   "cell_type": "code",
   "execution_count": 8,
   "metadata": {},
   "outputs": [
    {
     "name": "stdout",
     "output_type": "stream",
     "text": [
      "999\n"
     ]
    }
   ],
   "source": [
    "keys = list(dic.keys())\n",
    "keys.sort()\n",
    "n_keys = len(keys)\n",
    "print(len(keys))"
   ]
  },
  {
   "cell_type": "code",
   "execution_count": 10,
   "metadata": {},
   "outputs": [],
   "source": [
    "idx = 10"
   ]
  },
  {
   "cell_type": "code",
   "execution_count": 11,
   "metadata": {},
   "outputs": [],
   "source": [
    "x, y = keys[idx]"
   ]
  },
  {
   "cell_type": "code",
   "execution_count": 12,
   "metadata": {},
   "outputs": [
    {
     "data": {
      "text/plain": [
       "[(27, 28)]"
      ]
     },
     "execution_count": 12,
     "metadata": {},
     "output_type": "execute_result"
    }
   ],
   "source": [
    "upper_bottom"
   ]
  },
  {
   "cell_type": "code",
   "execution_count": 13,
   "metadata": {},
   "outputs": [
    {
     "data": {
      "text/plain": [
       "[]"
      ]
     },
     "execution_count": 13,
     "metadata": {},
     "output_type": "execute_result"
    }
   ],
   "source": [
    "lower_top"
   ]
  },
  {
   "cell_type": "code",
   "execution_count": 9,
   "metadata": {
    "scrolled": true
   },
   "outputs": [],
   "source": [
    "#min_dist = min(dist)\n",
    "min_dist = 30\n",
    "new_min = []\n",
    "\n",
    "for idx in range(n_keys):\n",
    "    partition = dic[keys[idx]]\n",
    "    #check the above partition\n",
    "    if idx < (n_keys-1) and keys[idx+1][1] - keys[idx][1] ==1: \n",
    "        upper_bottom = [(x, y) for x, y in partition if y < min_dist]\n",
    "        lower_top = [(x, y) for x, y in dic[keys[idx+1]] if y > 339-min_dist]\n",
    "        if len(upper_bottom)>0 and len(lower_top)>0: break\n",
    "        if len(upper_bottom)>0 and len(lower_top)>0:\n",
    "            temp_min = naive_dist(list(dic[keys[idx]] | dic[keys[idx+1]]))\n",
    "            if temp_min < min_dist: \n",
    "                print(\"wow\")\n",
    "                new_min.append(temp_min)\n",
    "    \n",
    "#     #check the right partition\n",
    "#     if keys[idx+1][1] - keys[idx][1] ==1: \n",
    "#         upper_bottom = [(x, y) for x, y in partition if y < min_dist]\n",
    "#         lower_top = [(x, y) for x, y in partition if y < 117-min_dist]\n",
    "#         if len(upper_bottom)>0 and len(lower_top)>0:\n",
    "#             temp_min = naive_dist(list(dic[keys[idx]] | dic[keys[idx+1]]))\n",
    "#             if temp_min < min_dist: \n",
    "#                 print(\"wow\")\n",
    "#                 new_min.append(temp_min)\n",
    "    \n",
    "    \n",
    "        \n",
    "#         left_end = [(x, y) for x, y in partition if x>116-min_dist]\n",
    "#         right_end = [(x, y) for x, y in dic[keys[idx+1]] if x<min_dist]\n",
    "#         if len(left_end)>1 and len(right_end)>1: \n",
    "#             print(\"wow!\")\n",
    "#             break"
   ]
  }
 ],
 "metadata": {
  "kernelspec": {
   "display_name": "Python 3",
   "language": "python",
   "name": "python3"
  },
  "language_info": {
   "codemirror_mode": {
    "name": "ipython",
    "version": 3
   },
   "file_extension": ".py",
   "mimetype": "text/x-python",
   "name": "python",
   "nbconvert_exporter": "python",
   "pygments_lexer": "ipython3",
   "version": "3.7.1"
  }
 },
 "nbformat": 4,
 "nbformat_minor": 2
}
