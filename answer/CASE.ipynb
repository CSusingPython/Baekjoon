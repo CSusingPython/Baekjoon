{
 "cells": [
  {
   "cell_type": "code",
   "execution_count": 83,
   "metadata": {},
   "outputs": [],
   "source": [
    "import sys\n",
    "from itertools import combinations\n"
   ]
  },
  {
   "cell_type": "code",
   "execution_count": 84,
   "metadata": {},
   "outputs": [],
   "source": [
    "class Point:\n",
    "    def __init__(self, x, y, gid):\n",
    "        self.x = x\n",
    "        self.y = y\n",
    "        self.gid = gid\n",
    "        \n",
    "    def __str__(self):\n",
    "        return \"({},{},{})\".format(self.x,self.y,self.gid)\n",
    "    \n",
    "    def __repr__(self):\n",
    "        return \"({},{},{})\".format(self.x,self.y,self.gid)"
   ]
  },
  {
   "cell_type": "code",
   "execution_count": 85,
   "metadata": {},
   "outputs": [
    {
     "name": "stdout",
     "output_type": "stream",
     "text": [
      "0\n",
      "1\n",
      "1\n",
      "3\n",
      "1\n",
      "9\n"
     ]
    }
   ],
   "source": [
    "txt_file = \"4963_txt.txt\"\n",
    "with open(txt_file, 'r') as f:\n",
    "    while True:\n",
    "        w, h = map(int, f.readline().split())\n",
    "        if w == 0 and h == 0 :\n",
    "            break\n",
    "        \n",
    "        # Point 불러오기\n",
    "        points = []\n",
    "        group_id = 0\n",
    "        for j in range(h):\n",
    "            nums = map(int, f.readline().split())\n",
    "            for i, num in enumerate(nums):\n",
    "                if num == 1:\n",
    "                    points.append(Point(i,j,group_id))\n",
    "                    group_id += 1\n",
    "        \n",
    "        # 합치기\n",
    "        while True:\n",
    "            flag = True\n",
    "            \n",
    "            for start_point, end_point in combinations(points,2):\n",
    "                if (abs(start_point.x - end_point.x) > 1 or \n",
    "                    abs(start_point.y - end_point.y) > 1):\n",
    "                    continue\n",
    "                else:\n",
    "                    # 같은 섬임\n",
    "                    if start_point.gid > end_point.gid:\n",
    "                        start_point.gid = end_point.gid \n",
    "                        flag = False\n",
    "                    elif start_point.gid < end_point.gid:\n",
    "                        end_point.gid = start_point.gid\n",
    "                        flag = False\n",
    "            if flag:\n",
    "                break\n",
    "        \n",
    "        print(len({point.gid for point in points}))"
   ]
  },
  {
   "cell_type": "code",
   "execution_count": 43,
   "metadata": {},
   "outputs": [],
   "source": []
  },
  {
   "cell_type": "code",
   "execution_count": null,
   "metadata": {},
   "outputs": [],
   "source": []
  }
 ],
 "metadata": {
  "kernelspec": {
   "display_name": "Python 3",
   "language": "python",
   "name": "python3"
  },
  "language_info": {
   "codemirror_mode": {
    "name": "ipython",
    "version": 3
   },
   "file_extension": ".py",
   "mimetype": "text/x-python",
   "name": "python",
   "nbconvert_exporter": "python",
   "pygments_lexer": "ipython3",
   "version": "3.6.5"
  }
 },
 "nbformat": 4,
 "nbformat_minor": 2
}
