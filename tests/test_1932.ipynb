{
 "cells": [
  {
   "cell_type": "markdown",
   "metadata": {},
   "source": [
    "## 문제\n",
    "            7  \n",
    "          3   8  \n",
    "        8   1   0  \n",
    "      2   7   4   4  \n",
    "    4   5   2   6   5  \n",
    "\n",
    "위 그림은 크기가 5인 정수 삼각형의 한 모습이다.  \n",
    "맨 위층 7부터 시작해서 아래에 있는 수 중 하나를 선택하여 아래층으로 내려올 때, 이제까지 선택된 수의 합이 최대가 되는 경로를 구하는 프로그램을 작성하라. 아래층에 있는 수는 현재 층에서 선택된 수의 대각선 왼쪽 또는 대각선 오른쪽에 있는 것 중에서만 선택할 수 있다.  \n",
    "삼각형의 크기는 1 이상 500 이하이다. 삼각형을 이루고 있는 각 수는 모두 정수이며, 범위는 0 이상 9999 이하이다."
   ]
  },
  {
   "cell_type": "markdown",
   "metadata": {},
   "source": [
    "## 입력\n",
    "첫째 줄에 삼각형의 크기 n(1 ≤ n ≤ 500)이 주어지고, 둘째 줄부터 n+1번째 줄까지 정수 삼각형이 주어진다."
   ]
  },
  {
   "cell_type": "markdown",
   "metadata": {},
   "source": [
    "## 출력\n",
    "첫째 줄에 합이 최대가 되는 경로에 있는 수의 합을 출력한다."
   ]
  },
  {
   "cell_type": "markdown",
   "metadata": {},
   "source": [
    "## 예제 입력\n",
    "5  \n",
    "7  \n",
    "3 8  \n",
    "8 1 0  \n",
    "2 7 4 4  \n",
    "4 5 2 6 5  "
   ]
  },
  {
   "cell_type": "markdown",
   "metadata": {},
   "source": [
    "## 예제 출력\n",
    "30"
   ]
  },
  {
   "cell_type": "markdown",
   "metadata": {},
   "source": [
    "* * *"
   ]
  },
  {
   "cell_type": "markdown",
   "metadata": {},
   "source": [
    "### 설명\n",
    "1. get_input 함수를 통해 인자를 받습니다.  \n",
    "  *  이 함수는 이미 완성되어있으며 jupyter notebook에서는 동작하지 않습니다.\n",
    "2. int_tri 함수를 통해 인자로부터 결과값을 반환합니다.  \n",
    "  * 코드를 작성해야하는 부분입니다.\n",
    "3. 최종결과를 프린트합니다."
   ]
  },
  {
   "cell_type": "markdown",
   "metadata": {},
   "source": [
    "### 제출 관련\n",
    "- 1~2의 함수는 main을 통해 제출되며, 세 함수를 정의하고 main을 실행하는 형태로 백준에 제출하면 됩니다.\n",
    "- validate_1932를 통해 int_tri함수가 올바르게 작동하는지 확인할 수 있습니다.\n",
    "- validate_1932는 제출할 때는 생략해도 무관하며, 거꾸로 main 함수는 개발할 땐 실행하지 않아도 무관합니다"
   ]
  },
  {
   "cell_type": "code",
   "execution_count": null,
   "metadata": {},
   "outputs": [],
   "source": [
    "def get_input():\n",
    "    import sys\n",
    "    #much faster than input function\n",
    "    r = sys.stdin.readline\n",
    "    n = r()\n",
    "    inputs = []\n",
    "    for _ in range(int(n)):\n",
    "        inputs.append(r())\n",
    "    return [n] + inputs"
   ]
  },
  {
   "cell_type": "code",
   "execution_count": null,
   "metadata": {},
   "outputs": [],
   "source": [
    "def int_tri(test_inputs):\n",
    "    \"\"\"여기에 코드를 작성하세요\"\"\"\n",
    "    return 0"
   ]
  },
  {
   "cell_type": "code",
   "execution_count": null,
   "metadata": {},
   "outputs": [],
   "source": [
    "def validate_1932(int_tri):\n",
    "    test_inputs = ['5', '7', '3 8', '8 1 0', '2 7 4 4', '4 5 2 6 5']\n",
    "    test_output = int_tri(test_inputs)\n",
    "    answer = 30\n",
    "    \n",
    "    if test_output == answer:\n",
    "        print(\"Problem solved!\")\n",
    "    else:\n",
    "        print(\"Wrong! The answer is %s but %s are returned\"%(answer, test_output))"
   ]
  },
  {
   "cell_type": "code",
   "execution_count": null,
   "metadata": {},
   "outputs": [],
   "source": [
    "validate_1932(int_tri)"
   ]
  },
  {
   "cell_type": "code",
   "execution_count": null,
   "metadata": {},
   "outputs": [],
   "source": [
    "def main(get_input, int_tri):\n",
    "    inputs = get_input()\n",
    "    output = int_tri(inputs)\n",
    "    print(output)\n",
    "main()"
   ]
  },
  {
   "cell_type": "code",
   "execution_count": null,
   "metadata": {},
   "outputs": [],
   "source": []
  },
  {
   "cell_type": "code",
   "execution_count": null,
   "metadata": {},
   "outputs": [],
   "source": []
  },
  {
   "cell_type": "code",
   "execution_count": null,
   "metadata": {},
   "outputs": [],
   "source": []
  },
  {
   "cell_type": "code",
   "execution_count": null,
   "metadata": {},
   "outputs": [],
   "source": []
  },
  {
   "cell_type": "code",
   "execution_count": null,
   "metadata": {},
   "outputs": [],
   "source": []
  },
  {
   "cell_type": "code",
   "execution_count": null,
   "metadata": {},
   "outputs": [],
   "source": []
  }
 ],
 "metadata": {
  "kernelspec": {
   "display_name": "Python 3",
   "language": "python",
   "name": "python3"
  },
  "language_info": {
   "codemirror_mode": {
    "name": "ipython",
    "version": 3
   },
   "file_extension": ".py",
   "mimetype": "text/x-python",
   "name": "python",
   "nbconvert_exporter": "python",
   "pygments_lexer": "ipython3",
   "version": "3.6.5"
  }
 },
 "nbformat": 4,
 "nbformat_minor": 2
}
